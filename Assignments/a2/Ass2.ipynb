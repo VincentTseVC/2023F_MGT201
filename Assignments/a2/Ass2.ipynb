{
 "cells": [
  {
   "attachments": {},
   "cell_type": "markdown",
   "metadata": {},
   "source": [
    "### Question1"
   ]
  },
  {
   "attachments": {},
   "cell_type": "markdown",
   "metadata": {},
   "source": [
    "把題目抄過來"
   ]
  },
  {
   "cell_type": "code",
   "execution_count": null,
   "metadata": {},
   "outputs": [],
   "source": [
    "student_marks = {}\n",
    "filenames = ['Grade1.csv', 'Grade2.csv']\n",
    "for filename in filenames:\n",
    "    # open the file and read all the data\n",
    "    f = open(filename, 'r')\n",
    "    lines = f.readlines()\n",
    "    f.close()\n",
    "\n",
    "    # remove the header (first line)\n",
    "    lines = lines[1:]\n",
    "\n",
    "    for line in lines:\n",
    "        data = line.strip().split(',')\n",
    "        name = data[0]\n",
    "        grade = int(data[1])\n",
    "\n",
    "        first_name, last_name = name.split(' ')\n",
    "        initial = first_name[0] + last_name[0]\n",
    "\n",
    "        if initial in student_marks:\n",
    "            student_marks[initial].append(grade)\n",
    "        else:\n",
    "            student_marks[initial] = [grade]"
   ]
  },
  {
   "cell_type": "code",
   "execution_count": 16,
   "metadata": {},
   "outputs": [],
   "source": [
    "def read_data(filename, student_marks):\n",
    "    # open the file and read all the data\n",
    "    f = open(filename, 'r')\n",
    "    lines = f.readlines()\n",
    "    f.close()\n",
    "\n",
    "    # remove the header (first line)\n",
    "    lines = lines[1:]\n",
    "\n",
    "    for line in lines:\n",
    "        data = line.strip().split(',')\n",
    "        name = data[0]\n",
    "        grade = int(data[1])\n",
    "\n",
    "        first_name, last_name = name.split(' ')\n",
    "        initial = first_name[0] + last_name[0]\n",
    "\n",
    "        if initial in student_marks:\n",
    "            student_marks[initial].append(grade)\n",
    "        else:\n",
    "            student_marks[initial] = [grade]\n"
   ]
  },
  {
   "cell_type": "code",
   "execution_count": 17,
   "metadata": {},
   "outputs": [
    {
     "data": {
      "text/plain": [
       "{'LS': [80, 70],\n",
       " 'OJ': [82, 71],\n",
       " 'NW': [84, 72],\n",
       " 'OB': [86, 73],\n",
       " 'EJ': [88, 74],\n",
       " 'CM': [90, 75]}"
      ]
     },
     "execution_count": 17,
     "metadata": {},
     "output_type": "execute_result"
    }
   ],
   "source": [
    "d = {}\n",
    "read_data('grade1.csv', d)\n",
    "read_data('grade2.csv', d)\n",
    "d"
   ]
  },
  {
   "attachments": {},
   "cell_type": "markdown",
   "metadata": {},
   "source": [
    "把 'O' 開頭的人 都刪掉"
   ]
  },
  {
   "cell_type": "code",
   "execution_count": 18,
   "metadata": {},
   "outputs": [
    {
     "data": {
      "text/plain": [
       "{'LS': [80, 70], 'NW': [84, 72], 'EJ': [88, 74], 'CM': [90, 75]}"
      ]
     },
     "execution_count": 18,
     "metadata": {},
     "output_type": "execute_result"
    }
   ],
   "source": [
    "initials = list(d.keys())\n",
    "\n",
    "for initial in initials:\n",
    "    if initial[0] == 'O':\n",
    "        del d[initial]\n",
    "\n",
    "d"
   ]
  },
  {
   "cell_type": "code",
   "execution_count": 14,
   "metadata": {},
   "outputs": [
    {
     "name": "stdout",
     "output_type": "stream",
     "text": [
      "Hello vc is 18 years old\n",
      "Hello vc is 18 years old\n"
     ]
    }
   ],
   "source": [
    "name = 'vc'\n",
    "age = 18\n",
    "\n",
    "s = 'Hello ' + name + ' is ' + str(age) + ' years old'\n",
    "print(s)\n",
    "\n",
    "s = f'Hello {name} is {age} years old'\n",
    "print(s)"
   ]
  },
  {
   "attachments": {},
   "cell_type": "markdown",
   "metadata": {},
   "source": [
    "calculate the average and write into a new file"
   ]
  },
  {
   "cell_type": "code",
   "execution_count": 21,
   "metadata": {},
   "outputs": [],
   "source": [
    "# for initial, grades in d.items():\n",
    "\n",
    "f = open('average.csv', 'w')\n",
    "f.write('Initial,Avg_grade\\n')\n",
    "\n",
    "for initial in d:\n",
    "    grades = d[initial]\n",
    "    # avg = round(sum(grades) / len(grades))\n",
    "    total = 0\n",
    "    num = 0\n",
    "    for grade in grades:\n",
    "        total += grade\n",
    "        num += 1\n",
    "    avg = round(total / num)\n",
    "\n",
    "    f.write(f'{initial},{avg}\\n')\n",
    "\n",
    "f.close()"
   ]
  },
  {
   "attachments": {},
   "cell_type": "markdown",
   "metadata": {},
   "source": [
    "### Question 2"
   ]
  },
  {
   "cell_type": "code",
   "execution_count": 28,
   "metadata": {},
   "outputs": [
    {
     "data": {
      "text/plain": [
       "{'Laptop': 33, 'Headphones': 32, 'Smartphone': 36, 'Keyboard': 15, 'Mouse': 37}"
      ]
     },
     "execution_count": 28,
     "metadata": {},
     "output_type": "execute_result"
    }
   ],
   "source": [
    "f = open('sales.txt', 'r')\n",
    "lines = f.readlines()\n",
    "f.close()\n",
    "\n",
    "product_dict = {} # => {'Laptop': 8, ..}\n",
    "for line in lines:\n",
    "    data = line.strip().split(';')\n",
    "    product = data[0]\n",
    "    unit = int(data[1])\n",
    "\n",
    "    if product in product_dict:\n",
    "        product_dict[product] += unit\n",
    "    else:\n",
    "        product_dict[product] = unit\n",
    "\n",
    "product_dict"
   ]
  },
  {
   "attachments": {},
   "cell_type": "markdown",
   "metadata": {},
   "source": [
    "Unique list"
   ]
  },
  {
   "cell_type": "code",
   "execution_count": 29,
   "metadata": {},
   "outputs": [
    {
     "data": {
      "text/plain": [
       "['Laptop', 'Headphones', 'Smartphone', 'Keyboard', 'Mouse']"
      ]
     },
     "execution_count": 29,
     "metadata": {},
     "output_type": "execute_result"
    }
   ],
   "source": [
    "products = list(product_dict.keys())\n",
    "products"
   ]
  },
  {
   "attachments": {},
   "cell_type": "markdown",
   "metadata": {},
   "source": [
    "sort the list"
   ]
  },
  {
   "cell_type": "code",
   "execution_count": 30,
   "metadata": {},
   "outputs": [
    {
     "data": {
      "text/plain": [
       "['Headphones', 'Keyboard', 'Laptop', 'Mouse', 'Smartphone']"
      ]
     },
     "execution_count": 30,
     "metadata": {},
     "output_type": "execute_result"
    }
   ],
   "source": [
    "products.sort()\n",
    "products"
   ]
  },
  {
   "attachments": {},
   "cell_type": "markdown",
   "metadata": {},
   "source": [
    "\"X was sold Y times\""
   ]
  },
  {
   "cell_type": "code",
   "execution_count": 31,
   "metadata": {},
   "outputs": [
    {
     "name": "stdout",
     "output_type": "stream",
     "text": [
      "Prodcut Laptop was sold 33 times.\n",
      "Prodcut Headphones was sold 32 times.\n",
      "Prodcut Smartphone was sold 36 times.\n",
      "Prodcut Keyboard was sold 15 times.\n",
      "Prodcut Mouse was sold 37 times.\n"
     ]
    }
   ],
   "source": [
    "for product in product_dict:\n",
    "    print(f'Prodcut {product} was sold {product_dict[product]} times.')"
   ]
  }
 ],
 "metadata": {
  "kernelspec": {
   "display_name": "Python 3",
   "language": "python",
   "name": "python3"
  },
  "language_info": {
   "codemirror_mode": {
    "name": "ipython",
    "version": 3
   },
   "file_extension": ".py",
   "mimetype": "text/x-python",
   "name": "python",
   "nbconvert_exporter": "python",
   "pygments_lexer": "ipython3",
   "version": "3.11.1"
  },
  "orig_nbformat": 4,
  "vscode": {
   "interpreter": {
    "hash": "aee8b7b246df8f9039afb4144a1f6fd8d2ca17a180786b69acc140d282b71a49"
   }
  }
 },
 "nbformat": 4,
 "nbformat_minor": 2
}
