{
 "cells": [
  {
   "cell_type": "code",
   "execution_count": null,
   "metadata": {},
   "outputs": [],
   "source": [
    "x = ...\n",
    "\n",
    "if x < 20:\n",
    "    print(1)\n",
    "elif x > 15 and x < 30:\n",
    "    print(2)\n",
    "else:\n",
    "    print(3)"
   ]
  },
  {
   "cell_type": "code",
   "execution_count": 1,
   "metadata": {},
   "outputs": [
    {
     "data": {
      "text/plain": [
       "'VVVincent'"
      ]
     },
     "execution_count": 1,
     "metadata": {},
     "output_type": "execute_result"
    }
   ],
   "source": [
    "s = \"Vincent\"\n",
    "n = 3\n",
    "\n",
    "s[0] * n + s[1:]\n",
    "# VVVincent\n"
   ]
  },
  {
   "cell_type": "code",
   "execution_count": null,
   "metadata": {},
   "outputs": [],
   "source": [
    "#      || |\n",
    "s1 = \"catab\"\n",
    "s2 = \"hatcb\"\n",
    "s3 = 'batxb'\n",
    "\n",
    "count = 0\n",
    "i = 0\n",
    "while i < len(s1):\n",
    "    if s1[i] == s2[i] == s3[i]:\n",
    "        count += 1\n",
    "    i += 1\n",
    "\n",
    "print(count)\n",
    "\n",
    "count = 0\n",
    "for i in range(len(s1)):\n",
    "    if s1[i] == s2[i] == s3[i]:\n",
    "        count += 1\n",
    "\n",
    "print(count)\n",
    "# 3"
   ]
  },
  {
   "cell_type": "code",
   "execution_count": 2,
   "metadata": {},
   "outputs": [
    {
     "name": "stdout",
     "output_type": "stream",
     "text": [
      "18\n"
     ]
    }
   ],
   "source": [
    "# sum up all the positive numbers in nums\n",
    "\n",
    "nums = [-2, 0, 3, -4, 8, 7]\n",
    "\n",
    "total = 0\n",
    "for num in nums:\n",
    "    if num > 0:\n",
    "        total += num\n",
    "\n",
    "print(total)"
   ]
  },
  {
   "cell_type": "code",
   "execution_count": 3,
   "metadata": {},
   "outputs": [
    {
     "name": "stdout",
     "output_type": "stream",
     "text": [
      "4\n"
     ]
    }
   ],
   "source": [
    "# count how many names contains at least n vowels\n",
    "names = ['Vincent', 'alice', 'bob', 'carol', 'fuck u']\n",
    "n = 2\n",
    "\n",
    "\n",
    "count = 0\n",
    "for name in names:\n",
    "    count_vowel = 0 # reset to 0\n",
    "    for ch in name:\n",
    "        if ch in 'aeiouAEIOU':\n",
    "            count_vowel += 1\n",
    "    \n",
    "    if count_vowel >= n:\n",
    "        count += 1\n",
    "        \n",
    "print(count)\n",
    "# ['Vincent', 'alice', 'carol', 'fuck u']\n",
    "# 4"
   ]
  },
  {
   "cell_type": "code",
   "execution_count": 6,
   "metadata": {},
   "outputs": [
    {
     "name": "stdout",
     "output_type": "stream",
     "text": [
      "False\n",
      "True\n",
      "False\n"
     ]
    }
   ],
   "source": [
    "print(\"vincent\".isdigit()) # False\n",
    "print(\"35465767\".isdigit()) # True\n",
    "print(\"xyz!\".isdigit()) # False"
   ]
  },
  {
   "cell_type": "code",
   "execution_count": null,
   "metadata": {},
   "outputs": [],
   "source": [
    "s = \"MGT201 is fucking hard\" # -> YES\n",
    "s = \"MGT20 1 is hard\"        # -> NO\n",
    "s = \"I like cs 666666\"       # -> YES\n",
    "\n",
    "\n",
    "has_3_num = False\n",
    "for i in range(0, len(s) - 2, 1):\n",
    "    if s[i:i+3].isdigit():\n",
    "        has_3_num = True\n",
    "        break\n",
    "\n",
    "if has_3_num:\n",
    "    print('YES')\n",
    "else:\n",
    "    print('NO')\n"
   ]
  },
  {
   "cell_type": "code",
   "execution_count": 8,
   "metadata": {},
   "outputs": [
    {
     "name": "stdout",
     "output_type": "stream",
     "text": [
      "carols 12 inch D\n"
     ]
    }
   ],
   "source": [
    "# find the longest name\n",
    "names = ['Vincent', 'alice', 'bob', 'carols 12 inch D', 'fuck u']\n",
    "\n",
    "longest_name = names[0]\n",
    "\n",
    "for name in names:\n",
    "    if len(name) > len(longest_name):\n",
    "        longest_name = name\n",
    "\n",
    "print(longest_name)\n",
    "\n",
    "# Vicnent"
   ]
  },
  {
   "cell_type": "code",
   "execution_count": 16,
   "metadata": {},
   "outputs": [
    {
     "name": "stdout",
     "output_type": "stream",
     "text": [
      "abc12xyz\n",
      "abc12xyz\n"
     ]
    }
   ],
   "source": [
    "s = \"123abc12xyz4566666666\"\n",
    "\n",
    "i = 0\n",
    "while i < len(s) and s[i].isdigit():\n",
    "    i += 1\n",
    "\n",
    "j = len(s) - 1\n",
    "while j >= 0 and s[j].isdigit():\n",
    "    j -= 1\n",
    "\n",
    "print(s[i:j+1])\n",
    "\n",
    "s = \"123abc12xyz4566666666\"\n",
    "\n",
    "is_first = True\n",
    "for i in range(len(s)):\n",
    "    if not s[i].isdigit():\n",
    "        end = i\n",
    "        if is_first:\n",
    "            start = i\n",
    "            is_first = False\n",
    "    \n",
    "\n",
    "print(s[start:end+1])\n",
    "    \n",
    "\n",
    "# abc12xyz"
   ]
  }
 ],
 "metadata": {
  "kernelspec": {
   "display_name": "Python 3",
   "language": "python",
   "name": "python3"
  },
  "language_info": {
   "codemirror_mode": {
    "name": "ipython",
    "version": 3
   },
   "file_extension": ".py",
   "mimetype": "text/x-python",
   "name": "python",
   "nbconvert_exporter": "python",
   "pygments_lexer": "ipython3",
   "version": "3.11.1"
  },
  "orig_nbformat": 4,
  "vscode": {
   "interpreter": {
    "hash": "aee8b7b246df8f9039afb4144a1f6fd8d2ca17a180786b69acc140d282b71a49"
   }
  }
 },
 "nbformat": 4,
 "nbformat_minor": 2
}
