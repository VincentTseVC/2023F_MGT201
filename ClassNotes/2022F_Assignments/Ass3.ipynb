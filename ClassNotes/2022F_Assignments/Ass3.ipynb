{
 "cells": [
  {
   "cell_type": "code",
   "execution_count": null,
   "metadata": {},
   "outputs": [],
   "source": [
    "def interest(investmentAmount, effectiveAnnualRate, years):\n",
    "    return round(investmentAmount * (1 + effectiveAnnualRate) ** years - investmentAmount, 2)\n",
    "\n",
    "\n",
    "investmentAmount = int(input('The amount invested: '))\n",
    "effectiveAnnualRate = float(input('Effective annual interest rate: '))\n",
    "\n",
    "print('Year\\tEarned Interest')\n",
    "for year in range(1, 31):\n",
    "    print(f'{year}\\t{interest(investmentAmount, effectiveAnnualRate, year)}')\n"
   ]
  },
  {
   "cell_type": "code",
   "execution_count": null,
   "metadata": {},
   "outputs": [],
   "source": [
    "def lone_sum(a, b, c):\n",
    "    total = 0\n",
    "    if a != b and a != c:\n",
    "        total += a\n",
    "    if b != a and b != c:\n",
    "        total += b\n",
    "    if c != a and c != b:\n",
    "        total += c\n",
    "    return total"
   ]
  }
 ],
 "metadata": {
  "language_info": {
   "name": "python"
  },
  "orig_nbformat": 4
 },
 "nbformat": 4,
 "nbformat_minor": 2
}
