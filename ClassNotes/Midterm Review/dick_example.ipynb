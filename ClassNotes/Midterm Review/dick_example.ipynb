{
 "cells": [
  {
   "cell_type": "code",
   "execution_count": 4,
   "metadata": {},
   "outputs": [
    {
     "name": "stdout",
     "output_type": "stream",
     "text": [
      "{'Brian': ['programming', 'games'], 'Nick': ['programming'], 'Paco': ['programming', 'games', 'food']}\n"
     ]
    }
   ],
   "source": [
    "clubs_to_members = {\n",
    "    'programming': ['Brian', 'Nick', 'Paco'], \n",
    "    'games': ['Paco', 'Brian'], 'food': ['Paco'], 'homework': []\n",
    "}\n",
    "\n",
    "members_to_clubs = {}\n",
    "\n",
    "for club in clubs_to_members:\n",
    "    members = clubs_to_members[club]\n",
    "    for member in members:\n",
    "        if member in members_to_clubs:\n",
    "            members_to_clubs[member].append(club)\n",
    "        else:\n",
    "            members_to_clubs[member] = [ club ]\n",
    "\n",
    "print(members_to_clubs) \n",
    "\n",
    "\n",
    "\n",
    "# {'Paco': ['food', 'games', 'programming'], \n",
    "#  'Brian': ['games', 'programming'], \n",
    "#  'Nick': ['programming']}\n",
    "\n",
    "\n"
   ]
  }
 ],
 "metadata": {
  "kernelspec": {
   "display_name": "Python 3",
   "language": "python",
   "name": "python3"
  },
  "language_info": {
   "codemirror_mode": {
    "name": "ipython",
    "version": 3
   },
   "file_extension": ".py",
   "mimetype": "text/x-python",
   "name": "python",
   "nbconvert_exporter": "python",
   "pygments_lexer": "ipython3",
   "version": "3.11.1"
  },
  "orig_nbformat": 4,
  "vscode": {
   "interpreter": {
    "hash": "aee8b7b246df8f9039afb4144a1f6fd8d2ca17a180786b69acc140d282b71a49"
   }
  }
 },
 "nbformat": 4,
 "nbformat_minor": 2
}
