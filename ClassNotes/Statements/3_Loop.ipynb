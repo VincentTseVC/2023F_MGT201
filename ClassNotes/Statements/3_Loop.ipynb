{
 "cells": [
  {
   "cell_type": "markdown",
   "metadata": {},
   "source": [
    "# Loop 循环"
   ]
  },
  {
   "cell_type": "markdown",
   "metadata": {},
   "source": [
    "## `while` loop"
   ]
  },
  {
   "cell_type": "markdown",
   "metadata": {},
   "source": [
    "通过某个条件 `True` or `False` 去判断是否要继续重复执行某一段代码"
   ]
  },
  {
   "cell_type": "code",
   "execution_count": 16,
   "metadata": {},
   "outputs": [
    {
     "name": "stdout",
     "output_type": "stream",
     "text": [
      "I like programing...\n",
      "I like programing...\n",
      "I like programing...\n",
      "I like programing...\n",
      "I like programing...\n",
      "Done\n"
     ]
    }
   ],
   "source": [
    "# 重複 print \"I like programing...\", 10次\n",
    "n = 0\n",
    "while n < 10:\n",
    "    print(\"I like programing...\")\n",
    "    n = n + 2\n",
    "print(\"Done\")"
   ]
  },
  {
   "cell_type": "code",
   "execution_count": null,
   "metadata": {},
   "outputs": [],
   "source": [
    "# 把所有的 Anya 都刪掉\n",
    "names = ['Anya', 'Anna', 'Anya', 'Vincent', 'Anya', 'Anya', 'Bob']\n",
    "\n",
    "while 'Anya' in names:\n",
    "    names.remove('Anya')"
   ]
  },
  {
   "cell_type": "code",
   "execution_count": 20,
   "metadata": {},
   "outputs": [
    {
     "name": "stdout",
     "output_type": "stream",
     "text": [
      "0 M\n",
      "1 G\n",
      "2 T\n",
      "3 2\n",
      "4 0\n",
      "5 1\n"
     ]
    }
   ],
   "source": [
    "#    012345\n",
    "s = \"MGT201\"\n",
    "\n",
    "i = 0\n",
    "while i < len(s):\n",
    "    print(i, s[i])\n",
    "    i += 1"
   ]
  },
  {
   "cell_type": "markdown",
   "metadata": {},
   "source": [
    "## `for` loop"
   ]
  },
  {
   "cell_type": "markdown",
   "metadata": {},
   "source": [
    "```python\n",
    "for variable in collection:\n",
    "    # do something about the variable\n",
    "```\n",
    "\n",
    "循环 `collection` 里的 每一个 item, 并把每个item 依次 放进 `variable` 里\n",
    "\n",
    "`collection` 一定要是 `str`, `list`, `tuple`, `dict`, `set`, `file`"
   ]
  },
  {
   "cell_type": "code",
   "execution_count": 4,
   "metadata": {},
   "outputs": [
    {
     "name": "stdout",
     "output_type": "stream",
     "text": [
      "hello M\n",
      "bye\n",
      "hello G\n",
      "bye\n",
      "hello T\n",
      "bye\n",
      "hello 2\n",
      "bye\n",
      "hello 0\n",
      "bye\n",
      "hello 1\n",
      "bye\n"
     ]
    }
   ],
   "source": [
    "s = \"MGT201\"\n",
    "for ch in s:\n",
    "    print(\"hello \" + ch)\n",
    "    print(\"bye\")"
   ]
  },
  {
   "cell_type": "code",
   "execution_count": null,
   "metadata": {},
   "outputs": [],
   "source": [
    "items = ['apple', 'banana', 'carrot']\n",
    "for item in items:\n",
    "    print(item)\n",
    "    for ch in item:\n",
    "        if ch in 'aeiouAEIOU':\n",
    "            print('VOWEL')\n",
    "        elif ch.isdigit():\n",
    "            print('NUMBER')\n",
    "        else:\n",
    "            print('LETTER')"
   ]
  },
  {
   "cell_type": "markdown",
   "metadata": {},
   "source": [
    "## `range` 函数"
   ]
  },
  {
   "cell_type": "markdown",
   "metadata": {},
   "source": [
    "创造一个 collection of `int`\n",
    "\n",
    "拿进的参数的意思 和 `slicing` 一样\n",
    "\n",
    "- `range(start, end, step)` 从 `start` 开始, 到 `end` (不包括) 结束, 每次增加 `step`\n",
    "\n",
    "- `range(start, end)` 默认每一次 `+1`\n",
    "\n",
    "- `range(end)` 默认从`０`开始\n",
    "\n",
    "注意: \n",
    "- `step` 如果是 positive, `start` <= `end`\n",
    "- `step` 如果是 negative, `start` >= `end`"
   ]
  },
  {
   "cell_type": "code",
   "execution_count": 6,
   "metadata": {},
   "outputs": [
    {
     "name": "stdout",
     "output_type": "stream",
     "text": [
      "[1, 4, 7]\n",
      "1\n",
      "4\n",
      "7\n"
     ]
    }
   ],
   "source": [
    "num_lst = list(range(1, 9, 3)) # 創建一個 collection 裡面只有 1, 4, 7 三個數字\n",
    "print(num_lst)\n",
    "\n",
    "for num in num_lst:\n",
    "    print(num)"
   ]
  },
  {
   "cell_type": "code",
   "execution_count": null,
   "metadata": {},
   "outputs": [],
   "source": [
    "r = range(1, 9, 3)\n",
    "for n in r:\n",
    "    print(n)"
   ]
  },
  {
   "cell_type": "code",
   "execution_count": null,
   "metadata": {},
   "outputs": [],
   "source": [
    "for n in range(1, 9):\n",
    "    print(n)"
   ]
  },
  {
   "cell_type": "code",
   "execution_count": null,
   "metadata": {},
   "outputs": [],
   "source": [
    "for n in range(9):\n",
    "    print(n)"
   ]
  },
  {
   "cell_type": "code",
   "execution_count": null,
   "metadata": {},
   "outputs": [],
   "source": [
    "for n in range(): # 會有 Error!!!\n",
    "    print(n)"
   ]
  },
  {
   "cell_type": "code",
   "execution_count": null,
   "metadata": {},
   "outputs": [],
   "source": [
    "for n in range(10, 2, -1):\n",
    "    print(n)"
   ]
  },
  {
   "cell_type": "markdown",
   "metadata": {},
   "source": [
    "## *`不同的方式`* 去循环一个 `str`, `list`, `tuple`"
   ]
  },
  {
   "cell_type": "code",
   "execution_count": 12,
   "metadata": {},
   "outputs": [
    {
     "name": "stdout",
     "output_type": "stream",
     "text": [
      "A\n",
      "n\n",
      "y\n",
      "a\n"
     ]
    }
   ],
   "source": [
    "name = 'Anya'\n",
    "for ch in name:\n",
    "    print(ch)"
   ]
  },
  {
   "cell_type": "code",
   "execution_count": 13,
   "metadata": {},
   "outputs": [
    {
     "name": "stdout",
     "output_type": "stream",
     "text": [
      "A\n",
      "n\n",
      "y\n",
      "a\n"
     ]
    }
   ],
   "source": [
    "name = 'Anya'\n",
    "for i in range(len(name)):\n",
    "    print(name[i])"
   ]
  },
  {
   "cell_type": "code",
   "execution_count": 14,
   "metadata": {},
   "outputs": [
    {
     "name": "stdout",
     "output_type": "stream",
     "text": [
      "A\n",
      "n\n",
      "y\n",
      "a\n"
     ]
    }
   ],
   "source": [
    "name = 'Anya'\n",
    "i = 0\n",
    "while i < len(name):\n",
    "    print(name[i])\n",
    "    i += 1"
   ]
  }
 ],
 "metadata": {
  "kernelspec": {
   "display_name": "Python 3.10.5 64-bit",
   "language": "python",
   "name": "python3"
  },
  "language_info": {
   "codemirror_mode": {
    "name": "ipython",
    "version": 3
   },
   "file_extension": ".py",
   "mimetype": "text/x-python",
   "name": "python",
   "nbconvert_exporter": "python",
   "pygments_lexer": "ipython3",
   "version": "3.10.5"
  },
  "orig_nbformat": 4,
  "vscode": {
   "interpreter": {
    "hash": "aee8b7b246df8f9039afb4144a1f6fd8d2ca17a180786b69acc140d282b71a49"
   }
  }
 },
 "nbformat": 4,
 "nbformat_minor": 2
}
