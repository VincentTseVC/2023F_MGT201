{
 "cells": [
  {
   "attachments": {},
   "cell_type": "markdown",
   "metadata": {},
   "source": [
    "### Question 1\n",
    "\n",
    "part a"
   ]
  },
  {
   "cell_type": "code",
   "execution_count": null,
   "metadata": {},
   "outputs": [],
   "source": [
    "num_cakes = int(input('請問 你要買多少過期的蛋糕?'))\n",
    "discount = 24.95 / 2\n",
    "print('蛋糕的原價是 24.95')\n",
    "print(f'蛋糕特價: {discount}')\n",
    "print(f'您買得 {num_cakes}塊蛋糕 一共是: {round(num_cakes * discount, 2)}')"
   ]
  },
  {
   "cell_type": "code",
   "execution_count": null,
   "metadata": {},
   "outputs": [],
   "source": [
    "km = float(input('公里: '))\n",
    "m = km * 1000\n",
    "\n",
    "import math\n",
    "fare = 15 + math.ceil(m // 200)\n",
    "\n",
    "print(f'他媽的 快給我: ${fare}')"
   ]
  },
  {
   "attachments": {},
   "cell_type": "markdown",
   "metadata": {},
   "source": [
    "### Question 2"
   ]
  },
  {
   "cell_type": "code",
   "execution_count": 3,
   "metadata": {},
   "outputs": [
    {
     "data": {
      "text/plain": [
       "[2023, 9, 23]"
      ]
     },
     "execution_count": 3,
     "metadata": {},
     "output_type": "execute_result"
    }
   ],
   "source": [
    "date = \"2023-09-23\"\n",
    "#       0123456789\n",
    "\n",
    "year = int(date[:4])\n",
    "month = int(date[5:7])\n",
    "day = int(date[8:])\n",
    "\n",
    "if 0 < year:\n",
    "    print('Invalid year')\n",
    "elif 0 < month or month > 12:\n",
    "    print('Invalid month')\n",
    "else:\n",
    "    if ((month in (1, 3, 5, 7, 8, 10, 12) and (0 < day or day > 31)) or\n",
    "        (month in (4, 6, 9, 11) and (0 < day or day > 30)) or \n",
    "        (month == 2 and (0 < day or day > 28))):\n",
    "        \n",
    "        print('Invalid day')\n",
    "    else:\n",
    "        print([year, month, day])\n",
    "\n",
    "# [2023, 9, 23]"
   ]
  },
  {
   "cell_type": "code",
   "execution_count": 6,
   "metadata": {},
   "outputs": [
    {
     "name": "stdout",
     "output_type": "stream",
     "text": [
      "49\n",
      "49\n"
     ]
    }
   ],
   "source": [
    "num = 14\n",
    "# 1 + 3 + 5 + 7 + 9 + 11 + 13\n",
    "\n",
    "total = 0\n",
    "for i in range(1, num+1, 2):\n",
    "    total += i\n",
    "\n",
    "print(total)\n",
    "\n",
    "\n",
    "total = 0\n",
    "for i in range(1, num+1, 1):\n",
    "    if i % 2 == 1:\n",
    "        total += i\n",
    "print(total)\n"
   ]
  },
  {
   "cell_type": "code",
   "execution_count": null,
   "metadata": {},
   "outputs": [],
   "source": [
    "# x = 1\n",
    "sum = 0\n",
    "for x in range(1, 101, 1):\n",
    "# while x <= 100:\n",
    "    sum = sum + x ** 0.5\n",
    "    # x = x + 1\n",
    "\n",
    "print(sum)"
   ]
  },
  {
   "cell_type": "code",
   "execution_count": null,
   "metadata": {},
   "outputs": [],
   "source": [
    "x = 38\n",
    "unit = 'C' # 'F'\n",
    "\n",
    "if unit == 'C':\n",
    "    # convert F\n",
    "    \n",
    "else:\n",
    "    # convert C"
   ]
  }
 ],
 "metadata": {
  "kernelspec": {
   "display_name": "Python 3",
   "language": "python",
   "name": "python3"
  },
  "language_info": {
   "codemirror_mode": {
    "name": "ipython",
    "version": 3
   },
   "file_extension": ".py",
   "mimetype": "text/x-python",
   "name": "python",
   "nbconvert_exporter": "python",
   "pygments_lexer": "ipython3",
   "version": "3.11.1"
  },
  "orig_nbformat": 4,
  "vscode": {
   "interpreter": {
    "hash": "aee8b7b246df8f9039afb4144a1f6fd8d2ca17a180786b69acc140d282b71a49"
   }
  }
 },
 "nbformat": 4,
 "nbformat_minor": 2
}
