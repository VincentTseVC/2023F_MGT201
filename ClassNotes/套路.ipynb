{
 "cells": [
  {
   "cell_type": "code",
   "execution_count": null,
   "metadata": {},
   "outputs": [],
   "source": [
    "for filename in ['文件名1.txt', '文件名2.csv']:\n",
    "    f = open(filename, 'r')\n",
    "    lines = f.readlines() # 這是一個list\n",
    "    f.close()\n",
    "\n",
    "    # 根據 file 的內容 可以選擇要skip 前幾行 (header)\n",
    "    lines = lines[1:]\n",
    "    # 假設 前3行 是不要的\n",
    "    lines = lines[3:]\n",
    "\n",
    "    for line in lines:\n",
    "        # 把最後的回車鍵 '\\n'刪了 然後 分開\n",
    "        data = line.strip().split(',') # -> data => ['Name', 'Age', 'gpa']\n",
    "        # data = line.strip().split(' ')\n",
    "\n",
    "        # process data\n",
    "        \n"
   ]
  },
  {
   "cell_type": "code",
   "execution_count": 3,
   "metadata": {},
   "outputs": [
    {
     "name": "stdout",
     "output_type": "stream",
     "text": [
      "True\n",
      "False\n"
     ]
    }
   ],
   "source": [
    "# contains? has?\n",
    "def contains_positive(L):\n",
    "    for num in L:\n",
    "        if num > 0:\n",
    "            return True\n",
    "        # else:\n",
    "        #     return False\n",
    "    return False\n",
    "\n",
    "print(contains_positive([-1, -5, 1, -3]))  # True\n",
    "print(contains_positive([-1, -5, -1, -3])) # False\n"
   ]
  },
  {
   "cell_type": "code",
   "execution_count": null,
   "metadata": {},
   "outputs": [],
   "source": [
    "# all? no? valid?\n",
    "def all_even(L):\n",
    "    for num in L:\n",
    "        if num % 2 != 0:\n",
    "            return False\n",
    "    return True"
   ]
  },
  {
   "cell_type": "code",
   "execution_count": null,
   "metadata": {},
   "outputs": [],
   "source": [
    "def valid_phone_number(phone):\n",
    "    if len(phone) != 10:\n",
    "        return False\n",
    "    \n",
    "    for ch in phone:\n",
    "        # if ch not in '0123456789 -':\n",
    "        if not ch.isdigit() and ch not in '- ':\n",
    "            return False\n",
    "    return True"
   ]
  },
  {
   "cell_type": "code",
   "execution_count": null,
   "metadata": {},
   "outputs": [],
   "source": [
    "#  012345\n",
    "#  ANANAN\n",
    "\n",
    "def valid_postal_code(code):\n",
    "    return len(code) == 6 and code[::2].isalpha() and code[1::2].isdigit()\n",
    "\n",
    "\n",
    "def valid_postal_code2(code):\n",
    "    if len(code) != 6:\n",
    "        return False\n",
    "    \n",
    "    check_letter = True\n",
    "\n",
    "    for ch in code:\n",
    "        if check_letter:\n",
    "            if not ch.isalpha():\n",
    "                return False\n",
    "        else:\n",
    "            if not ch.isdigit():\n",
    "                return False\n",
    "        \n",
    "        check_letter = not check_letter\n",
    "    return True\n",
    "\n",
    "\n",
    "def valid_postal_code3(code):\n",
    "    for i in range(len(code) - 1):\n",
    "        if not (code[i].isalpha() and code[i+1].isdigit()):\n",
    "            return False\n",
    "    return True\n"
   ]
  },
  {
   "cell_type": "code",
   "execution_count": null,
   "metadata": {},
   "outputs": [],
   "source": [
    "#   sum_all_even\n",
    "def count_all_even(L):\n",
    "    # total = 0\n",
    "    count = 0\n",
    "    for num in L:\n",
    "        if num % 2 == 0:\n",
    "            # total += num\n",
    "            count += 1\n",
    "    # return total\n",
    "    return count"
   ]
  },
  {
   "cell_type": "code",
   "execution_count": null,
   "metadata": {},
   "outputs": [],
   "source": [
    "def remove_vowels(s):\n",
    "    new_s = ''\n",
    "    for ch in s:\n",
    "        if ch not in 'aeiouAEIOU':\n",
    "            new_s += ch\n",
    "    return new_s"
   ]
  },
  {
   "cell_type": "code",
   "execution_count": 5,
   "metadata": {},
   "outputs": [],
   "source": [
    "def only_even(L):\n",
    "    new_L = []\n",
    "    for num in L:\n",
    "        if num % 2 == 0:\n",
    "            new_L.append(num)\n",
    "            # new_L += [num]\n",
    "    return new_L"
   ]
  },
  {
   "cell_type": "code",
   "execution_count": 7,
   "metadata": {},
   "outputs": [
    {
     "name": "stdout",
     "output_type": "stream",
     "text": [
      "[2, 66, 18]\n"
     ]
    }
   ],
   "source": [
    "def even_sum(L):\n",
    "    new_L = []\n",
    "    \n",
    "    for sub in L:\n",
    "        total = 0\n",
    "        for num in sub:\n",
    "            if num % 2 == 0:\n",
    "                total += num\n",
    "        \n",
    "        new_L.append(total)\n",
    "\n",
    "    return new_L\n",
    "\n",
    "\n",
    "print(even_sum([[1, 2, 3], [4, 62], [8, 9, 10]]))\n",
    "# [2, 66, 18]\n"
   ]
  },
  {
   "cell_type": "code",
   "execution_count": 8,
   "metadata": {},
   "outputs": [
    {
     "name": "stdout",
     "output_type": "stream",
     "text": [
      "{5: 2, 2: 1, 0: 1, 1: 3, 3: 1, 4: 1}\n"
     ]
    }
   ],
   "source": [
    "def unique_count(L):\n",
    "    res = {}\n",
    "    for num in L:\n",
    "        if num in res:\n",
    "            res[num] += 1\n",
    "        else:\n",
    "            res[num] = 1\n",
    "    return res\n",
    "\n",
    "def unique_count2(L):\n",
    "    res = {}\n",
    "    for num in L:\n",
    "        \n",
    "        if num not in res:\n",
    "            res[num] = 0\n",
    "        res[num] += 1\n",
    "\n",
    "    return res\n",
    "\n",
    "print(unique_count([5, 2, 0, 1, 3, 1, 4, 5, 1]))\n",
    "\n",
    "# {5: 2,\n",
    "#  2: 1,\n",
    "#  0: 1,\n",
    "#  1: 3,\n",
    "#  3: 1,\n",
    "#  4: 1}"
   ]
  },
  {
   "cell_type": "code",
   "execution_count": null,
   "metadata": {},
   "outputs": [],
   "source": [
    "def number_index(L):\n",
    "    res = {}\n",
    "    for i in range(len(L)):\n",
    "        num = L[i]\n",
    "        \n",
    "        if num in res:\n",
    "            res[num].append(i)\n",
    "        else:\n",
    "            res[num] = [i]\n",
    "    return res\n",
    "\n",
    "#                   0  1  2  3  4  5  6  7  8\n",
    "print(number_index([5, 2, 0, 1, 3, 1, 4, 5, 1]))\n",
    "# {5: [0, 7], \n",
    "#  2: [1], \n",
    "#  0: [2], \n",
    "#  1: [3, 5, 8], \n",
    "#  3: [4],\n",
    "#  4: [6], \n",
    "#  5: [7]}"
   ]
  },
  {
   "cell_type": "code",
   "execution_count": null,
   "metadata": {},
   "outputs": [],
   "source": [
    "# d[k] = v"
   ]
  },
  {
   "cell_type": "code",
   "execution_count": null,
   "metadata": {},
   "outputs": [],
   "source": [
    "def get_dick(L):\n",
    "    res = {}\n",
    "\n",
    "    # for name, course, gpa in L:\n",
    "    for data in L:\n",
    "        name = data[0]\n",
    "        course = data[1]\n",
    "        gpa = data[2]\n",
    "\n",
    "        if name in res:\n",
    "            res[name][course] = gpa\n",
    "        else:\n",
    "            res[name] = {course: gpa}\n",
    "    \n",
    "    return res\n",
    "    \n",
    "print(get_dick([['Tommy', 'MGT201', 4.0], \n",
    "                ['Jack', 'CSC108', 3.8],\n",
    "                ['Jesus', 'MGT201', 2.5], \n",
    "                ['Tim', 'CSC108', 1.8],\n",
    "                ['Jack', 'MGT201', 2.5],\n",
    "                ['Tim', 'ECO101', 0.7]]))\n",
    "\n",
    "# {'Tommy': {'MGT201': 4.0},\n",
    "#  'Jack': {'CSC108: 3.8, 'MGT201': 2.5}, \n",
    "# ...}\n",
    "\n"
   ]
  }
 ],
 "metadata": {
  "kernelspec": {
   "display_name": "Python 3",
   "language": "python",
   "name": "python3"
  },
  "language_info": {
   "codemirror_mode": {
    "name": "ipython",
    "version": 3
   },
   "file_extension": ".py",
   "mimetype": "text/x-python",
   "name": "python",
   "nbconvert_exporter": "python",
   "pygments_lexer": "ipython3",
   "version": "3.11.1 (v3.11.1:a7a450f84a, Dec  6 2022, 15:24:06) [Clang 13.0.0 (clang-1300.0.29.30)]"
  },
  "orig_nbformat": 4,
  "vscode": {
   "interpreter": {
    "hash": "aee8b7b246df8f9039afb4144a1f6fd8d2ca17a180786b69acc140d282b71a49"
   }
  }
 },
 "nbformat": 4,
 "nbformat_minor": 2
}
