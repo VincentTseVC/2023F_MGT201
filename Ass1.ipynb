{
 "cells": [
  {
   "attachments": {},
   "cell_type": "markdown",
   "metadata": {},
   "source": [
    "### Question 1\n",
    "\n",
    "*Given a number stored in a variable num, say:*\n",
    "\n",
    "num = 12345\n",
    "Write a program to calculate the sum of its digits. The expected output for the above example would be 1+2+3+4+5=15. Test different inputs and see if the program runs correctly."
   ]
  },
  {
   "cell_type": "code",
   "execution_count": 5,
   "metadata": {},
   "outputs": [
    {
     "data": {
      "text/plain": [
       "15"
      ]
     },
     "execution_count": 5,
     "metadata": {},
     "output_type": "execute_result"
    }
   ],
   "source": [
    "num = 12345\n",
    "\n",
    "total = 0\n",
    "for d in str(num):\n",
    "    total = total + int(d)\n",
    "\n",
    "total"
   ]
  },
  {
   "attachments": {},
   "cell_type": "markdown",
   "metadata": {},
   "source": [
    "### Question 2\n",
    "\n",
    "Given a list of numbers, say\n",
    "\n",
    "numbers = [1, 1, 2, 3, 5, 8, 13, 21, 34, 55, 89]  \n",
    "write a program that prints out all the elements of the list less than 7.\n"
   ]
  },
  {
   "cell_type": "code",
   "execution_count": 6,
   "metadata": {},
   "outputs": [
    {
     "name": "stdout",
     "output_type": "stream",
     "text": [
      "1\n",
      "1\n",
      "2\n",
      "3\n",
      "5\n"
     ]
    }
   ],
   "source": [
    "numbers = [1, 1, 2, 3, 5, 8, 13, 21, 34, 55, 89]\n",
    "for num in numbers:\n",
    "    if num < 7:\n",
    "        print(num)"
   ]
  },
  {
   "cell_type": "markdown",
   "metadata": {},
   "source": [
    "\n",
    "Instead of printing the elements one by one, make a new list that has all the  \n",
    "elements less than 7 from this list in it and print out this new list."
   ]
  },
  {
   "cell_type": "code",
   "execution_count": 7,
   "metadata": {},
   "outputs": [
    {
     "data": {
      "text/plain": [
       "[1, 1, 2, 3, 5]"
      ]
     },
     "execution_count": 7,
     "metadata": {},
     "output_type": "execute_result"
    }
   ],
   "source": [
    "numbers = [1, 1, 2, 3, 5, 8, 13, 21, 34, 55, 89]\n",
    "\n",
    "result = []\n",
    "\n",
    "for num in numbers:\n",
    "    if num < 7:\n",
    "        # result.append(num)\n",
    "        result = result + [num] # result += [num]\n",
    "\n",
    "result"
   ]
  },
  {
   "attachments": {},
   "cell_type": "markdown",
   "metadata": {},
   "source": [
    "### Question 3 \n",
    "\n",
    "Given a positive integer, say\n",
    "\n",
    "number = 10  \n",
    "output the number of square numbers below this integer.   \n",
    "A square number is a number represented by a*a.  \n",
    "For example, 1, 4, 9, and 16 are all square numbers.  \n",
    "The expected output is 3 for number=10."
   ]
  },
  {
   "cell_type": "code",
   "execution_count": 8,
   "metadata": {},
   "outputs": [
    {
     "name": "stdout",
     "output_type": "stream",
     "text": [
      "3\n",
      "3\n"
     ]
    }
   ],
   "source": [
    "number = 10\n",
    "count = 0\n",
    "a = 1\n",
    "while a * a < number:\n",
    "    count += 1\n",
    "    a += 1\n",
    "\n",
    "print(count) # print(a - 1)"
   ]
  },
  {
   "attachments": {},
   "cell_type": "markdown",
   "metadata": {},
   "source": [
    "### Question 4\n",
    "\n",
    "Create a dictionary of a few (3-5) celebrities and their birthdays.  \n",
    "\n",
    "Print the celebrity names in the dictionary, one name per line.  \n",
    "\n",
    "Ask the user to input a celebrity name, using the following code  \n",
    "\n",
    "name = input()  \n",
    "You will need to press Enter after inputting the name. Then search the name in the dictionary. If the name is in the dictionary, then output the following result:\n",
    "  \n",
    "`Benjamin Franklin's birthday is 01/17/1706.`\n",
    "\n",
    "Otherwise, print  \n",
    "\n",
    "`This name is not found.`"
   ]
  },
  {
   "cell_type": "code",
   "execution_count": 11,
   "metadata": {},
   "outputs": [
    {
     "name": "stdout",
     "output_type": "stream",
     "text": [
      "Vincent\n",
      "Alice\n",
      "Bob\n",
      "Bob's birthday is 02/29/2000.\n"
     ]
    }
   ],
   "source": [
    "celebrities = {\n",
    "    \"Vincent\": \"01/01/2023\", \n",
    "    \"Alice\": \"04/01/1995\", \n",
    "    \"Bob\": \"02/29/2000\"\n",
    "}\n",
    "\n",
    "for cel_name in celebrities:\n",
    "    print(cel_name)\n",
    "\n",
    "name = input()\n",
    "\n",
    "if name in celebrities:\n",
    "    # print(name + \"'s birthday is \" + celebrities[name] + '.')\n",
    "    print(f\"{name}'s birthday is {celebrities[name]}.\")\n",
    "else:\n",
    "    print('This name is not found.')\n"
   ]
  },
  {
   "attachments": {},
   "cell_type": "markdown",
   "metadata": {},
   "source": [
    "### Question 5"
   ]
  },
  {
   "cell_type": "code",
   "execution_count": null,
   "metadata": {},
   "outputs": [],
   "source": [
    "# repeat forever\n",
    "while True:\n",
    "    # ask (prompt) the user to enter a number of the letter q\n",
    "    user_input = input(\"Enter a number or 'q' to quit: \")\n",
    "    \n",
    "    # check if the user entered the letter q\n",
    "    if user_input == 'q':\n",
    "        # if so, print a message and break (stop) the entire while loop\n",
    "        print(\"Quitting the program.\")\n",
    "        break\n",
    "    \n",
    "    # otherwise, convert the user input into an integer\n",
    "    num = int(user_input)\n",
    "    \n",
    "    # if the number is greater than 0, print the string \"Positive\"\n",
    "    if num > 0:\n",
    "        print(\"Positive\")\n",
    "    # else if the number is 0, print \"Zero\"\n",
    "    elif num == 0:\n",
    "        print(\"Zero\")\n",
    "    # otherwise, the number is less than 0, then we print \"Negative\"\n",
    "    else:\n",
    "        print(\"Negative\")"
   ]
  }
 ],
 "metadata": {
  "kernelspec": {
   "display_name": "Python 3",
   "language": "python",
   "name": "python3"
  },
  "language_info": {
   "codemirror_mode": {
    "name": "ipython",
    "version": 3
   },
   "file_extension": ".py",
   "mimetype": "text/x-python",
   "name": "python",
   "nbconvert_exporter": "python",
   "pygments_lexer": "ipython3",
   "version": "3.11.1"
  },
  "orig_nbformat": 4,
  "vscode": {
   "interpreter": {
    "hash": "aee8b7b246df8f9039afb4144a1f6fd8d2ca17a180786b69acc140d282b71a49"
   }
  }
 },
 "nbformat": 4,
 "nbformat_minor": 2
}
